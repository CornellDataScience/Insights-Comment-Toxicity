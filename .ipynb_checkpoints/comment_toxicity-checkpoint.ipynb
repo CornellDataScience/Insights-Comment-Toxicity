{
 "cells": [
  {
   "cell_type": "markdown",
   "metadata": {},
   "source": [
    "# Comment Toxicity Challenge"
   ]
  },
  {
   "cell_type": "code",
   "execution_count": 2,
   "metadata": {},
   "outputs": [],
   "source": [
    "#imports \n",
    "import pandas as pd\n",
    "import re\n",
    "import os\n",
    "from sklearn.feature_extraction.text import CountVectorizer\n",
    "from sklearn.model_selection import train_test_split\n",
    "from sklearn.naive_bayes import GaussianNB\n",
    "from sklearn.metrics import confusion_matrix\n",
    "from sklearn.metrics import accuracy_score\n",
    "from sklearn.svm import SVC"
   ]
  },
  {
   "cell_type": "markdown",
   "metadata": {},
   "source": [
    "Reading all the datasets in"
   ]
  },
  {
   "cell_type": "code",
   "execution_count": 3,
   "metadata": {},
   "outputs": [],
   "source": [
    "test_set = pd.read_csv(\"test.csv\")\n",
    "test_labels = pd.read_csv(\"test_labels.csv\")\n",
    "train_set = pd.read_csv(\"train.csv\")"
   ]
  },
  {
   "cell_type": "markdown",
   "metadata": {},
   "source": [
    "Cleaning up the data"
   ]
  },
  {
   "cell_type": "code",
   "execution_count": 9,
   "metadata": {},
   "outputs": [],
   "source": [
    "regex = re.compile('[^a-zA-Z]')\n",
    "fixed = []\n",
    "size = len(train_set.index)\n",
    "size_that_my_computer_can_handle = 5000\n",
    "for i in range(size_that_my_computer_can_handle):\n",
    "    temp = regex.sub(' ', train_set['comment_text'][i])\n",
    "    temp = temp.lower()\n",
    "    fixed.append(temp)"
   ]
  },
  {
   "cell_type": "code",
   "execution_count": 10,
   "metadata": {},
   "outputs": [],
   "source": [
    "X = CountVectorizer().fit_transform(fixed).toarray()\n",
    "y_tox = train_set.iloc[0:size_that_my_computer_can_handle,2].values\n",
    "y_sev_tox = train_set.iloc[0:size_that_my_computer_can_handle,3].values\n",
    "y_obs = train_set.iloc[0:size_that_my_computer_can_handle,4].values\n",
    "y_threat = train_set.iloc[0:size_that_my_computer_can_handle,5].values\n",
    "y_insult = train_set.iloc[0:size_that_my_computer_can_handle,6].values\n",
    "y_hate = train_set.iloc[0:size_that_my_computer_can_handle,7].values"
   ]
  },
  {
   "cell_type": "code",
   "execution_count": 11,
   "metadata": {},
   "outputs": [
    {
     "name": "stdout",
     "output_type": "stream",
     "text": [
      "(5000, 22863)\n",
      "(5000,)\n"
     ]
    }
   ],
   "source": [
    "tests = {'y_tox' : y_tox, \n",
    "         'y_sev_tox' : y_sev_tox, \n",
    "         'y_obs' : y_obs, \n",
    "         'y_threat' : y_threat, \n",
    "         'y_insult' : y_insult, \n",
    "         'y_hate' : y_hate}\n",
    "\n",
    "models = {'y_tox' : GaussianNB(), \n",
    "          'y_sev_tox' : GaussianNB(),\n",
    "          'y_obs' : GaussianNB(),\n",
    "          'y_threat' : GaussianNB(),\n",
    "          'y_insult' : GaussianNB(),\n",
    "          'y_hate' : GaussianNB()}\n",
    "\n",
    "preds = {}\n",
    "\n",
    "test_names = ['y_tox', 'y_sev_tox', 'y_obs', 'y_threat', 'y_insult', 'y_hate']\n",
    "print(X.shape)\n",
    "print(tests['y_tox'].shape)"
   ]
  },
  {
   "cell_type": "code",
   "execution_count": 8,
   "metadata": {},
   "outputs": [
    {
     "name": "stdout",
     "output_type": "stream",
     "text": [
      "y_tox\n",
      "[[37  5]\n",
      " [ 6  2]]\n",
      "0.78\n",
      "y_sev_tox\n",
      "[[48  1]\n",
      " [ 1  0]]\n",
      "0.96\n",
      "y_obs\n",
      "[[43  2]\n",
      " [ 5  0]]\n",
      "0.86\n",
      "y_threat\n",
      "[[50]]\n",
      "1.0\n",
      "y_insult\n",
      "[[45  2]\n",
      " [ 3  0]]\n",
      "0.9\n",
      "y_hate\n",
      "[[49  0]\n",
      " [ 1  0]]\n",
      "0.98\n"
     ]
    }
   ],
   "source": [
    "for i in test_names:\n",
    "    X_train, X_test, y_train, y_test = train_test_split(X, tests[i], test_size = 0.05, random_state = 42)\n",
    "    models[i].fit(X_train, y_train)\n",
    "    preds[i] = models[i].predict(X_test)\n",
    "    print(i)\n",
    "    print(confusion_matrix(y_test, preds[i]))\n",
    "    print(accuracy_score(y_test, preds[i]))"
   ]
  },
  {
   "cell_type": "code",
   "execution_count": 110,
   "metadata": {},
   "outputs": [],
   "source": [
    "tests = {'y_tox' : y_tox, \n",
    "         'y_sev_tox' : y_sev_tox, \n",
    "         'y_obs' : y_obs, \n",
    "         'y_threat' : y_threat, \n",
    "         'y_insult' : y_insult, \n",
    "         'y_hate' : y_hate}\n",
    "\n",
    "models = {'y_tox' : SVC(), \n",
    "          'y_sev_tox' : SVC(),\n",
    "          'y_obs' : SVC(),\n",
    "          'y_threat' : SVC(),\n",
    "          'y_insult' : SVC(),\n",
    "          'y_hate' : SVC()}"
   ]
  },
  {
   "cell_type": "code",
   "execution_count": 1,
   "metadata": {},
   "outputs": [
    {
     "ename": "NameError",
     "evalue": "name 'test_names' is not defined",
     "output_type": "error",
     "traceback": [
      "\u001b[0;31m---------------------------------------------------------------------------\u001b[0m",
      "\u001b[0;31mNameError\u001b[0m                                 Traceback (most recent call last)",
      "\u001b[0;32m<ipython-input-1-d9e7eb117be1>\u001b[0m in \u001b[0;36m<module>\u001b[0;34m()\u001b[0m\n\u001b[0;32m----> 1\u001b[0;31m \u001b[0;32mfor\u001b[0m \u001b[0mi\u001b[0m \u001b[0;32min\u001b[0m \u001b[0mtest_names\u001b[0m\u001b[0;34m:\u001b[0m\u001b[0;34m\u001b[0m\u001b[0m\n\u001b[0m\u001b[1;32m      2\u001b[0m     \u001b[0mX_train\u001b[0m\u001b[0;34m,\u001b[0m \u001b[0mX_test\u001b[0m\u001b[0;34m,\u001b[0m \u001b[0my_train\u001b[0m\u001b[0;34m,\u001b[0m \u001b[0my_test\u001b[0m \u001b[0;34m=\u001b[0m \u001b[0mtrain_test_split\u001b[0m\u001b[0;34m(\u001b[0m\u001b[0mX\u001b[0m\u001b[0;34m,\u001b[0m \u001b[0mtests\u001b[0m\u001b[0;34m[\u001b[0m\u001b[0mi\u001b[0m\u001b[0;34m]\u001b[0m\u001b[0;34m,\u001b[0m \u001b[0mtest_size\u001b[0m \u001b[0;34m=\u001b[0m \u001b[0;36m0.05\u001b[0m\u001b[0;34m,\u001b[0m \u001b[0mrandom_state\u001b[0m \u001b[0;34m=\u001b[0m \u001b[0;36m45\u001b[0m\u001b[0;34m)\u001b[0m\u001b[0;34m\u001b[0m\u001b[0m\n\u001b[1;32m      3\u001b[0m     \u001b[0mmodels\u001b[0m\u001b[0;34m[\u001b[0m\u001b[0mi\u001b[0m\u001b[0;34m]\u001b[0m\u001b[0;34m.\u001b[0m\u001b[0mfit\u001b[0m\u001b[0;34m(\u001b[0m\u001b[0mX_train\u001b[0m\u001b[0;34m,\u001b[0m \u001b[0my_train\u001b[0m\u001b[0;34m)\u001b[0m\u001b[0;34m\u001b[0m\u001b[0m\n\u001b[1;32m      4\u001b[0m     \u001b[0mpreds\u001b[0m\u001b[0;34m[\u001b[0m\u001b[0mi\u001b[0m\u001b[0;34m]\u001b[0m \u001b[0;34m=\u001b[0m \u001b[0mmodels\u001b[0m\u001b[0;34m[\u001b[0m\u001b[0mi\u001b[0m\u001b[0;34m]\u001b[0m\u001b[0;34m.\u001b[0m\u001b[0mpredict\u001b[0m\u001b[0;34m(\u001b[0m\u001b[0mX_test\u001b[0m\u001b[0;34m)\u001b[0m\u001b[0;34m\u001b[0m\u001b[0m\n\u001b[1;32m      5\u001b[0m     \u001b[0mprint\u001b[0m\u001b[0;34m(\u001b[0m\u001b[0mi\u001b[0m\u001b[0;34m)\u001b[0m\u001b[0;34m\u001b[0m\u001b[0m\n",
      "\u001b[0;31mNameError\u001b[0m: name 'test_names' is not defined"
     ]
    }
   ],
   "source": [
    "for i in test_names:\n",
    "    X_train, X_test, y_train, y_test = train_test_split(X, tests[i], test_size = 0.05, random_state = 45)\n",
    "    models[i].fit(X_train, y_train)\n",
    "    preds[i] = models[i].predict(X_test)\n",
    "    print(i)\n",
    "    print(confusion_matrix(y_test, preds[i]))\n",
    "    print(accuracy_score(y_test, preds[i]))"
   ]
  },
  {
   "cell_type": "code",
   "execution_count": null,
   "metadata": {},
   "outputs": [],
   "source": []
  }
 ],
 "metadata": {
  "kernelspec": {
   "display_name": "Python 3",
   "language": "python",
   "name": "python3"
  },
  "language_info": {
   "codemirror_mode": {
    "name": "ipython",
    "version": 3
   },
   "file_extension": ".py",
   "mimetype": "text/x-python",
   "name": "python",
   "nbconvert_exporter": "python",
   "pygments_lexer": "ipython3",
   "version": "3.7.0"
  }
 },
 "nbformat": 4,
 "nbformat_minor": 2
}
