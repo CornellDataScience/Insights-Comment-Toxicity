{
 "cells": [
  {
   "cell_type": "markdown",
   "metadata": {},
   "source": [
    "# Comment Toxicity Challenge"
   ]
  },
  {
   "cell_type": "code",
   "execution_count": 1,
   "metadata": {},
   "outputs": [],
   "source": [
    "import pandas as pd\n",
    "import re\n",
    "from sklearn.feature_extraction.text import CountVectorizer\n",
    "from sklearn.feature_extraction.text import HashingVectorizer\n",
    "from sklearn.model_selection import train_test_split\n",
    "from sklearn.naive_bayes import GaussianNB\n",
    "from sklearn.svm import SVC\n",
    "from sklearn.neighbors import KNeighborsClassifier\n",
    "from sklearn.ensemble import RandomForestClassifier\n",
    "from sklearn.tree import DecisionTreeClassifier\n",
    "from sklearn.linear_model import LogisticRegression\n",
    "from sklearn.metrics import confusion_matrix\n",
    "from sklearn.metrics import accuracy_score\n",
    "from nltk.corpus import stopwords"
   ]
  },
  {
   "cell_type": "markdown",
   "metadata": {},
   "source": [
    "### Reading in all datasets\n",
    "Here, we read in our datasets. We're only going to use the training set given by Kaggle, and we'll eventually end up splitting up the data with a 5% testing and 95% training split. "
   ]
  },
  {
   "cell_type": "code",
   "execution_count": 2,
   "metadata": {},
   "outputs": [],
   "source": [
    "train_set = pd.read_csv(\"train.csv\")"
   ]
  },
  {
   "cell_type": "markdown",
   "metadata": {},
   "source": [
    "### Cleaning up the data\n",
    "In this step, we clean up the data. We use Python's regex library to do that (it takes in a regular expression and transforms it to the programmer's specifications.) For now, we only really want letters in our dataset - anything else is going to be replaced by a space. "
   ]
  },
  {
   "cell_type": "code",
   "execution_count": 3,
   "metadata": {},
   "outputs": [],
   "source": [
    "regex = re.compile('[^a-zA-Z]')\n",
    "fixed = []\n",
    "size = len(train_set.index)\n",
    "size_that_my_computer_can_handle = 2000\n",
    "starting_point = 5000\n",
    "for i in range(starting_point, starting_point+size_that_my_computer_can_handle):\n",
    "    temp = regex.sub(' ', train_set['comment_text'][i])\n",
    "    temp = temp.lower()\n",
    "    fixed.append(temp)"
   ]
  },
  {
   "cell_type": "code",
   "execution_count": 4,
   "metadata": {},
   "outputs": [],
   "source": [
    "X = CountVectorizer().fit_transform(fixed).toarray()\n",
    "y_tox = train_set.iloc[starting_point:size_that_my_computer_can_handle+starting_point,2].values\n",
    "y_sev_tox = train_set.iloc[starting_point:size_that_my_computer_can_handle+starting_point,3].values\n",
    "y_obs = train_set.iloc[starting_point:size_that_my_computer_can_handle+starting_point,4].values\n",
    "y_threat = train_set.iloc[starting_point:size_that_my_computer_can_handle+starting_point,5].values\n",
    "y_insult = train_set.iloc[starting_point:size_that_my_computer_can_handle+starting_point,6].values\n",
    "y_hate = train_set.iloc[starting_point:size_that_my_computer_can_handle+starting_point,7].values"
   ]
  },
  {
   "cell_type": "markdown",
   "metadata": {},
   "source": [
    "### Gaussian Naive Bayes\n",
    "Here, we assign, then run (in the next step) the Gaussian Naive Bayes model on our data set."
   ]
  },
  {
   "cell_type": "code",
   "execution_count": 5,
   "metadata": {},
   "outputs": [],
   "source": [
    "tests = {'y_tox' : y_tox, \n",
    "         'y_sev_tox' : y_sev_tox, \n",
    "         'y_obs' : y_obs, \n",
    "         'y_threat' : y_threat, \n",
    "         'y_insult' : y_insult, \n",
    "         'y_hate' : y_hate}\n",
    "\n",
    "gnb_models = {'y_tox' : GaussianNB(), \n",
    "          'y_sev_tox' : GaussianNB(),\n",
    "          'y_obs' : GaussianNB(),\n",
    "          'y_threat' : GaussianNB(),\n",
    "          'y_insult' : GaussianNB(),\n",
    "          'y_hate' : GaussianNB()}\n",
    "\n",
    "preds = {}\n",
    "\n",
    "test_names = ['y_tox', 'y_sev_tox', 'y_obs', 'y_threat', 'y_insult', 'y_hate']"
   ]
  },
  {
   "cell_type": "code",
   "execution_count": 6,
   "metadata": {},
   "outputs": [
    {
     "name": "stdout",
     "output_type": "stream",
     "text": [
      "y_tox\n",
      "[[411  27]\n",
      " [ 38  24]]\n",
      "0.87\n",
      "y_sev_tox\n",
      "[[495   0]\n",
      " [  4   1]]\n",
      "0.992\n",
      "y_obs\n",
      "[[454  18]\n",
      " [ 24   4]]\n",
      "0.916\n",
      "y_threat\n",
      "[[498   1]\n",
      " [  1   0]]\n",
      "0.996\n",
      "y_insult\n",
      "[[473   9]\n",
      " [ 14   4]]\n",
      "0.954\n",
      "y_hate\n",
      "[[495   2]\n",
      " [  3   0]]\n",
      "0.99\n"
     ]
    }
   ],
   "source": [
    "for i in test_names:\n",
    "    X_train, X_test, y_train, y_test = train_test_split(X, tests[i])\n",
    "    gnb_models[i].fit(X_train, y_train)\n",
    "    preds[i] = gnb_models[i].predict(X_test)\n",
    "    print(i)\n",
    "    print(confusion_matrix(y_test, preds[i]))\n",
    "    print(accuracy_score(y_test, preds[i]))"
   ]
  },
  {
   "cell_type": "markdown",
   "metadata": {},
   "source": [
    "### Changing the vectorizer and re-running the model\n",
    "What differences can we note? "
   ]
  },
  {
   "cell_type": "code",
   "execution_count": 7,
   "metadata": {},
   "outputs": [
    {
     "name": "stdout",
     "output_type": "stream",
     "text": [
      "[[0. 0. 0. ... 0. 0. 0.]\n",
      " [0. 0. 0. ... 0. 0. 0.]\n",
      " [0. 0. 0. ... 0. 0. 0.]\n",
      " ...\n",
      " [0. 0. 0. ... 0. 0. 0.]\n",
      " [0. 0. 0. ... 0. 0. 0.]\n",
      " [0. 0. 0. ... 0. 0. 0.]]\n"
     ]
    }
   ],
   "source": [
    "X = HashingVectorizer().fit_transform(fixed).toarray()\n",
    "print(X)"
   ]
  },
  {
   "cell_type": "code",
   "execution_count": null,
   "metadata": {},
   "outputs": [
    {
     "name": "stdout",
     "output_type": "stream",
     "text": [
      "y_tox\n",
      "[[414  22]\n",
      " [ 44  20]]\n",
      "0.868\n",
      "y_sev_tox\n",
      "[[495   1]\n",
      " [  3   1]]\n",
      "0.992\n",
      "y_obs\n",
      "[[457  16]\n",
      " [ 23   4]]\n",
      "0.922\n",
      "y_threat\n",
      "[[496   1]\n",
      " [  3   0]]\n",
      "0.992\n"
     ]
    }
   ],
   "source": [
    "for i in test_names:\n",
    "    X_train, X_test, y_train, y_test = train_test_split(X, tests[i])\n",
    "    gnb_models[i].fit(X_train, y_train)\n",
    "    preds[i] = gnb_models[i].predict(X_test)\n",
    "    print(i)\n",
    "    print(confusion_matrix(y_test, preds[i]))\n",
    "    print(accuracy_score(y_test, preds[i]))"
   ]
  },
  {
   "cell_type": "markdown",
   "metadata": {},
   "source": [
    "Let's change the vectorizer back. "
   ]
  },
  {
   "cell_type": "code",
   "execution_count": null,
   "metadata": {},
   "outputs": [],
   "source": [
    "X = CountVectorizer().fit_transform(fixed).toarray()"
   ]
  },
  {
   "cell_type": "markdown",
   "metadata": {},
   "source": [
    "### SVM Model\n",
    "Here, we assign, then run (in the next step) the Support Vector Machine model on our data set."
   ]
  },
  {
   "cell_type": "code",
   "execution_count": null,
   "metadata": {},
   "outputs": [],
   "source": [
    "svm_models = {'y_tox' : SVC(gamma = 'scale'), \n",
    "          'y_sev_tox' : SVC(gamma = 'scale'),\n",
    "          'y_obs' : SVC(gamma = 'scale'),\n",
    "          'y_threat' : SVC(gamma = 'scale'),\n",
    "          'y_insult' : SVC(gamma = 'scale'),\n",
    "          'y_hate' : SVC(gamma = 'scale')}"
   ]
  },
  {
   "cell_type": "code",
   "execution_count": 66,
   "metadata": {},
   "outputs": [
    {
     "name": "stdout",
     "output_type": "stream",
     "text": [
      "y_tox\n",
      "[[173   0]\n",
      " [ 26   1]]\n",
      "0.87\n",
      "y_sev_tox\n",
      "[[197   0]\n",
      " [  3   0]]\n",
      "0.985\n",
      "y_obs\n",
      "[[190   0]\n",
      " [ 10   0]]\n",
      "0.95\n",
      "y_threat\n",
      "[[199   0]\n",
      " [  1   0]]\n",
      "0.995\n",
      "y_insult\n",
      "[[184   0]\n",
      " [ 16   0]]\n",
      "0.92\n",
      "y_hate\n",
      "[[199   0]\n",
      " [  1   0]]\n",
      "0.995\n"
     ]
    }
   ],
   "source": [
    "for i in test_names:\n",
    "    X_train, X_test, y_train, y_test = train_test_split(X, tests[i])\n",
    "    svm_models[i].fit(X_train, y_train)\n",
    "    preds[i] = svm_models[i].predict(X_test)\n",
    "    print(i)\n",
    "    print(confusion_matrix(y_test, preds[i]))\n",
    "    print(accuracy_score(y_test, preds[i]))"
   ]
  },
  {
   "cell_type": "markdown",
   "metadata": {},
   "source": [
    "### K Nearest Neighbors Model\n",
    "Here, we assign, then run (in the next step) the K Nearest Neighbors model on our data set."
   ]
  },
  {
   "cell_type": "code",
   "execution_count": null,
   "metadata": {},
   "outputs": [],
   "source": [
    "k_nearest_models = {'y_tox' : KNeighborsClassifier(), \n",
    "          'y_sev_tox' : KNeighborsClassifier(),\n",
    "          'y_obs' : KNeighborsClassifier(),\n",
    "          'y_threat' : KNeighborsClassifier(),\n",
    "          'y_insult' : KNeighborsClassifier(),\n",
    "          'y_hate' : KNeighborsClassifier()}"
   ]
  },
  {
   "cell_type": "code",
   "execution_count": 15,
   "metadata": {},
   "outputs": [
    {
     "name": "stdout",
     "output_type": "stream",
     "text": [
      "y_tox\n",
      "[[438  12]\n",
      " [ 41   9]]\n",
      "0.894\n",
      "y_sev_tox\n",
      "[[496   0]\n",
      " [  4   0]]\n",
      "0.992\n",
      "y_obs\n",
      "[[471   4]\n",
      " [ 21   4]]\n",
      "0.95\n",
      "y_threat\n",
      "[[499   0]\n",
      " [  1   0]]\n",
      "0.998\n",
      "y_insult\n",
      "[[467   9]\n",
      " [ 22   2]]\n",
      "0.938\n",
      "y_hate\n",
      "[[496   0]\n",
      " [  4   0]]\n",
      "0.992\n"
     ]
    }
   ],
   "source": [
    "for i in test_names:\n",
    "    X_train, X_test, y_train, y_test = train_test_split(X, tests[i])\n",
    "    k_nearest_models[i].fit(X_train, y_train)\n",
    "    preds[i] = k_nearest_models[i].predict(X_test)\n",
    "    print(i)\n",
    "    print(confusion_matrix(y_test, preds[i]))\n",
    "    print(accuracy_score(y_test, preds[i]))"
   ]
  },
  {
   "cell_type": "markdown",
   "metadata": {},
   "source": [
    "### Random Forest Model\n",
    "Here, we assign, then run (in the next step) the Random Forest model on our data set."
   ]
  },
  {
   "cell_type": "code",
   "execution_count": 35,
   "metadata": {},
   "outputs": [],
   "source": [
    "random_forest_models = {'y_tox' : RandomForestClassifier(), \n",
    "          'y_sev_tox' : RandomForestClassifier(),\n",
    "          'y_obs' : RandomForestClassifier(),\n",
    "          'y_threat' : RandomForestClassifier(),\n",
    "          'y_insult' : RandomForestClassifier(),\n",
    "          'y_hate' : RandomForestClassifier()}"
   ]
  },
  {
   "cell_type": "code",
   "execution_count": 68,
   "metadata": {},
   "outputs": [
    {
     "name": "stdout",
     "output_type": "stream",
     "text": [
      "y_tox\n",
      "[[85  1]\n",
      " [10  4]]\n",
      "0.89\n",
      "y_sev_tox\n",
      "[[99  1]\n",
      " [ 0  0]]\n",
      "0.99\n",
      "y_obs\n",
      "[[95  0]\n",
      " [ 4  1]]\n",
      "0.96\n",
      "y_threat\n",
      "[[99  0]\n",
      " [ 1  0]]\n",
      "0.99\n",
      "y_insult\n",
      "[[94  0]\n",
      " [ 5  1]]\n",
      "0.95\n",
      "y_hate\n",
      "[[100]]\n",
      "1.0\n"
     ]
    }
   ],
   "source": [
    "for i in test_names:\n",
    "    X_train, X_test, y_train, y_test = train_test_split(X, tests[i])\n",
    "    random_forest_models[i].fit(X_train, y_train)\n",
    "    preds[i] = random_forest_models[i].predict(X_test)\n",
    "    print(i)\n",
    "    print(confusion_matrix(y_test, preds[i]))\n",
    "    print(accuracy_score(y_test, preds[i]))"
   ]
  },
  {
   "cell_type": "markdown",
   "metadata": {},
   "source": [
    "### Decision Tree Model\n",
    "Here, we assign, then run (in the next step) the Decision Tree model on our data set."
   ]
  },
  {
   "cell_type": "code",
   "execution_count": 16,
   "metadata": {},
   "outputs": [],
   "source": [
    "decision_tree_models = {'y_tox' : DecisionTreeClassifier(), \n",
    "          'y_sev_tox' : DecisionTreeClassifier(),\n",
    "          'y_obs' : DecisionTreeClassifier(),\n",
    "          'y_threat' : DecisionTreeClassifier(),\n",
    "          'y_insult' : DecisionTreeClassifier(),\n",
    "          'y_hate' : DecisionTreeClassifier()}"
   ]
  },
  {
   "cell_type": "code",
   "execution_count": 70,
   "metadata": {},
   "outputs": [
    {
     "name": "stdout",
     "output_type": "stream",
     "text": [
      "y_tox\n",
      "[[453   5]\n",
      " [ 28  14]]\n",
      "0.934\n",
      "y_sev_tox\n",
      "[[494   1]\n",
      " [  5   0]]\n",
      "0.988\n",
      "y_obs\n",
      "[[472   6]\n",
      " [  8  14]]\n",
      "0.972\n",
      "y_threat\n",
      "[[498   0]\n",
      " [  2   0]]\n",
      "0.996\n",
      "y_insult\n",
      "[[473   8]\n",
      " [  9  10]]\n",
      "0.966\n",
      "y_hate\n",
      "[[493   3]\n",
      " [  4   0]]\n",
      "0.986\n"
     ]
    }
   ],
   "source": [
    "for i in test_names:\n",
    "    X_train, X_test, y_train, y_test = train_test_split(X, tests[i])\n",
    "    decision_tree_models[i].fit(X_train, y_train)\n",
    "    preds[i] = decision_tree_models[i].predict(X_test)\n",
    "    print(i)\n",
    "    print(confusion_matrix(y_test, preds[i]))\n",
    "    print(accuracy_score(y_test, preds[i]))"
   ]
  },
  {
   "cell_type": "markdown",
   "metadata": {},
   "source": [
    "### Logistic Regression\n",
    "Here, we assign, then run (in the next step) the Logistic Regression model on our data set."
   ]
  },
  {
   "cell_type": "code",
   "execution_count": 23,
   "metadata": {},
   "outputs": [],
   "source": [
    "logistic_regression_models = {'y_tox' : LogisticRegression(solver = 'lbfgs', max_iter = 200), \n",
    "          'y_sev_tox' : LogisticRegression(solver = 'lbfgs', max_iter = 200),\n",
    "          'y_obs' : LogisticRegression(solver = 'lbfgs', max_iter = 200),\n",
    "          'y_threat' : LogisticRegression(solver = 'lbfgs', max_iter = 200),\n",
    "          'y_insult' : LogisticRegression(solver = 'lbfgs', max_iter = 200),\n",
    "          'y_hate' : LogisticRegression(solver = 'lbfgs', max_iter = 200)}"
   ]
  },
  {
   "cell_type": "code",
   "execution_count": 24,
   "metadata": {},
   "outputs": [
    {
     "name": "stdout",
     "output_type": "stream",
     "text": [
      "y_tox\n",
      "[[447   6]\n",
      " [ 31  16]]\n",
      "0.926\n",
      "y_sev_tox\n",
      "[[497   0]\n",
      " [  2   1]]\n",
      "0.996\n",
      "y_obs\n",
      "[[475   2]\n",
      " [ 17   6]]\n",
      "0.962\n",
      "y_threat\n",
      "[[499   1]\n",
      " [  0   0]]\n",
      "0.998\n",
      "y_insult\n",
      "[[473   2]\n",
      " [ 18   7]]\n",
      "0.96\n",
      "y_hate\n",
      "[[496   1]\n",
      " [  3   0]]\n",
      "0.992\n"
     ]
    }
   ],
   "source": [
    "for i in test_names:\n",
    "    X_train, X_test, y_train, y_test = train_test_split(X, tests[i])\n",
    "    logistic_regression_models[i].fit(X_train, y_train)\n",
    "    preds[i] = logistic_regression_models[i].predict(X_test)\n",
    "    print(i)\n",
    "    print(confusion_matrix(y_test, preds[i]))\n",
    "    print(accuracy_score(y_test, preds[i]))"
   ]
  },
  {
   "cell_type": "code",
   "execution_count": 42,
   "metadata": {},
   "outputs": [],
   "source": [
    "test_labels = pd.read_csv(\"test_labels.csv\")\n",
    "test_set = pd.read_csv(\"test.csv\")\n",
    "submission = pd.read_csv(\"sample_submission.csv\")"
   ]
  },
  {
   "cell_type": "code",
   "execution_count": 30,
   "metadata": {},
   "outputs": [],
   "source": [
    "fixed_test = []\n",
    "for i in range(starting_point, starting_point+size_that_my_computer_can_handle):\n",
    "    temp = regex.sub(' ', test_set['comment_text'][i])\n",
    "    temp = temp.lower()\n",
    "    fixed_test.append(temp)"
   ]
  },
  {
   "cell_type": "code",
   "execution_count": 32,
   "metadata": {},
   "outputs": [],
   "source": [
    "X_test = CountVectorizer().fit_transform(fixed_test).toarray()\n",
    "test_preds = {}"
   ]
  },
  {
   "cell_type": "code",
   "execution_count": 39,
   "metadata": {},
   "outputs": [
    {
     "name": "stdout",
     "output_type": "stream",
     "text": [
      "y_tox\n",
      "y_sev_tox\n",
      "y_obs\n",
      "y_threat\n",
      "y_insult\n",
      "y_hate\n"
     ]
    }
   ],
   "source": [
    "for i in test_names:\n",
    "    print (i)\n",
    "    test_preds[i] = gnb_models[i].predict(X_test)"
   ]
  },
  {
   "cell_type": "code",
   "execution_count": null,
   "metadata": {},
   "outputs": [],
   "source": [
    "sample_sub = pd.DataFrame(submission.iloc[5000:,7000])\n",
    "sample_sub = sample_sub.reset_index(drop=True)\n",
    "sample_placement = pd.DataFrame(test_preds)\n",
    "sample_placement = sample_placement.reindex_axis(['y_tox','y_sev_tox', 'y_obs','y_threat', 'y_insult', 'y_hate'], axis=1)\n",
    "sample_sub = sample_sub.join(sample_placement)\n",
    "sample_sub = sample_sub.rename(columns={'y_tox': 'toxic', 'y_sev_tox': 'sever_toxic',\n",
    "                                        'y_obs': 'obscene', 'y_threat': 'threat', \n",
    "                                        'y)insult': 'insult', 'y_hate': 'indentity_hate'})"
   ]
  },
  {
   "cell_type": "code",
   "execution_count": null,
   "metadata": {},
   "outputs": [],
   "source": [
    "sample_sub"
   ]
  },
  {
   "cell_type": "code",
   "execution_count": null,
   "metadata": {},
   "outputs": [],
   "source": []
  }
 ],
 "metadata": {
  "kernelspec": {
   "display_name": "Python 3",
   "language": "python",
   "name": "python3"
  },
  "language_info": {
   "codemirror_mode": {
    "name": "ipython",
    "version": 3
   },
   "file_extension": ".py",
   "mimetype": "text/x-python",
   "name": "python",
   "nbconvert_exporter": "python",
   "pygments_lexer": "ipython3",
   "version": "3.7.1"
  }
 },
 "nbformat": 4,
 "nbformat_minor": 2
}
