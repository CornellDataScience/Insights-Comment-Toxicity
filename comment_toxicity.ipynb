{
 "cells": [
  {
   "cell_type": "markdown",
   "metadata": {},
   "source": [
    "# Comment Toxicity Challenge"
   ]
  },
  {
   "cell_type": "code",
   "execution_count": 1,
   "metadata": {},
   "outputs": [],
   "source": [
    "import pandas as pd\n",
    "import re\n",
    "from sklearn.feature_extraction.text import CountVectorizer\n",
    "from sklearn.feature_extraction.text import HashingVectorizer\n",
    "from sklearn.model_selection import train_test_split\n",
    "from sklearn.naive_bayes import GaussianNB\n",
    "from sklearn.svm import SVC\n",
    "from sklearn.neighbors import KNeighborsClassifier\n",
    "from sklearn.ensemble import RandomForestClassifier\n",
    "from sklearn.tree import DecisionTreeClassifier\n",
    "from sklearn.metrics import confusion_matrix\n",
    "from sklearn.metrics import accuracy_score"
   ]
  },
  {
   "cell_type": "markdown",
   "metadata": {},
   "source": [
    "### Reading in all datasets\n",
    "Here, we read in our datasets. We're only going to use the training set given by Kaggle, and we'll eventually end up splitting up the data with a 5% testing and 95% training split. "
   ]
  },
  {
   "cell_type": "code",
   "execution_count": 2,
   "metadata": {},
   "outputs": [],
   "source": [
    "test_labels = pd.read_csv(\"test_labels.csv\")\n",
    "train_set = pd.read_csv(\"train.csv\")"
   ]
  },
  {
   "cell_type": "markdown",
   "metadata": {},
   "source": [
    "### Cleaning up the data\n",
    "In this step, we clean up the data. We use Python's regex library to do that (it takes in a regular expression and transforms it to the programmer's specifications.) For now, we only really want letters in our dataset - anything else is going to be replaced by a space. "
   ]
  },
  {
   "cell_type": "code",
   "execution_count": 3,
   "metadata": {},
   "outputs": [],
   "source": [
    "regex = re.compile('[^a-zA-Z]')\n",
    "fixed = []\n",
    "size = len(train_set.index)\n",
    "size_that_my_computer_can_handle = 2000\n",
    "starting_point = 5000\n",
    "for i in range(starting_point, starting_point+size_that_my_computer_can_handle):\n",
    "    temp = regex.sub(' ', train_set['comment_text'][i])\n",
    "    temp = temp.lower()\n",
    "    fixed.append(temp)"
   ]
  },
  {
   "cell_type": "code",
   "execution_count": 4,
   "metadata": {},
   "outputs": [],
   "source": [
    "X = CountVectorizer().fit_transform(fixed).toarray()\n",
    "y_tox = train_set.iloc[starting_point:size_that_my_computer_can_handle+starting_point,2].values\n",
    "y_sev_tox = train_set.iloc[starting_point:size_that_my_computer_can_handle+starting_point,3].values\n",
    "y_obs = train_set.iloc[starting_point:size_that_my_computer_can_handle+starting_point,4].values\n",
    "y_threat = train_set.iloc[starting_point:size_that_my_computer_can_handle+starting_point,5].values\n",
    "y_insult = train_set.iloc[starting_point:size_that_my_computer_can_handle+starting_point,6].values\n",
    "y_hate = train_set.iloc[starting_point:size_that_my_computer_can_handle+starting_point,7].values"
   ]
  },
  {
   "cell_type": "code",
   "execution_count": 5,
   "metadata": {},
   "outputs": [],
   "source": [
    "tests = {'y_tox' : y_tox, \n",
    "         'y_sev_tox' : y_sev_tox, \n",
    "         'y_obs' : y_obs, \n",
    "         'y_threat' : y_threat, \n",
    "         'y_insult' : y_insult, \n",
    "         'y_hate' : y_hate}\n",
    "\n",
    "models = {'y_tox' : GaussianNB(), \n",
    "          'y_sev_tox' : GaussianNB(),\n",
    "          'y_obs' : GaussianNB(),\n",
    "          'y_threat' : GaussianNB(),\n",
    "          'y_insult' : GaussianNB(),\n",
    "          'y_hate' : GaussianNB()}\n",
    "\n",
    "preds = {}\n",
    "\n",
    "test_names = ['y_tox', 'y_sev_tox', 'y_obs', 'y_threat', 'y_insult', 'y_hate']"
   ]
  },
  {
   "cell_type": "code",
   "execution_count": 6,
   "metadata": {},
   "outputs": [
    {
     "name": "stdout",
     "output_type": "stream",
     "text": [
      "y_tox\n",
      "[[425  32]\n",
      " [ 35   8]]\n",
      "0.866\n",
      "y_sev_tox\n",
      "[[492   3]\n",
      " [  4   1]]\n",
      "0.986\n",
      "y_obs\n",
      "[[455  19]\n",
      " [ 21   5]]\n",
      "0.92\n",
      "y_threat\n",
      "[[497   1]\n",
      " [  2   0]]\n",
      "0.994\n",
      "y_insult\n",
      "[[464  10]\n",
      " [ 22   4]]\n",
      "0.936\n",
      "y_hate\n",
      "[[495   2]\n",
      " [  3   0]]\n",
      "0.99\n"
     ]
    }
   ],
   "source": [
    "for i in test_names:\n",
    "    X_train, X_test, y_train, y_test = train_test_split(X, tests[i])\n",
    "    models[i].fit(X_train, y_train)\n",
    "    preds[i] = models[i].predict(X_test)\n",
    "    print(i)\n",
    "    print(confusion_matrix(y_test, preds[i]))\n",
    "    print(accuracy_score(y_test, preds[i]))"
   ]
  },
  {
   "cell_type": "code",
   "execution_count": null,
   "metadata": {},
   "outputs": [],
   "source": [
    "X = HashingVectorizer().fit_transform(fixed).toarray()\n",
    "print(X)"
   ]
  },
  {
   "cell_type": "code",
   "execution_count": null,
   "metadata": {},
   "outputs": [
    {
     "name": "stdout",
     "output_type": "stream",
     "text": [
      "y_tox\n",
      "[[430  24]\n",
      " [ 30  16]]\n",
      "0.892\n"
     ]
    }
   ],
   "source": [
    "for i in test_names:\n",
    "    X_train, X_test, y_train, y_test = train_test_split(X, tests[i])\n",
    "    models[i].fit(X_train, y_train)\n",
    "    preds[i] = models[i].predict(X_test)\n",
    "    print(i)\n",
    "    print(confusion_matrix(y_test, preds[i]))\n",
    "    print(accuracy_score(y_test, preds[i]))"
   ]
  },
  {
   "cell_type": "code",
   "execution_count": 63,
   "metadata": {},
   "outputs": [],
   "source": [
    "svm_models = {'y_tox' : SVC(gamma = 'scale'), \n",
    "          'y_sev_tox' : SVC(gamma = 'scale'),\n",
    "          'y_obs' : SVC(gamma = 'scale'),\n",
    "          'y_threat' : SVC(gamma = 'scale'),\n",
    "          'y_insult' : SVC(gamma = 'scale'),\n",
    "          'y_hate' : SVC(gamma = 'scale')}"
   ]
  },
  {
   "cell_type": "code",
   "execution_count": 66,
   "metadata": {},
   "outputs": [
    {
     "name": "stdout",
     "output_type": "stream",
     "text": [
      "y_tox\n",
      "[[173   0]\n",
      " [ 26   1]]\n",
      "0.87\n",
      "y_sev_tox\n",
      "[[197   0]\n",
      " [  3   0]]\n",
      "0.985\n",
      "y_obs\n",
      "[[190   0]\n",
      " [ 10   0]]\n",
      "0.95\n",
      "y_threat\n",
      "[[199   0]\n",
      " [  1   0]]\n",
      "0.995\n",
      "y_insult\n",
      "[[184   0]\n",
      " [ 16   0]]\n",
      "0.92\n",
      "y_hate\n",
      "[[199   0]\n",
      " [  1   0]]\n",
      "0.995\n"
     ]
    }
   ],
   "source": [
    "for i in test_names:\n",
    "    X_train, X_test, y_train, y_test = train_test_split(X, tests[i])\n",
    "    svm_models[i].fit(X_train, y_train)\n",
    "    preds[i] = svm_models[i].predict(X_test)\n",
    "    print(i)\n",
    "    print(confusion_matrix(y_test, preds[i]))\n",
    "    print(accuracy_score(y_test, preds[i]))"
   ]
  },
  {
   "cell_type": "code",
   "execution_count": 37,
   "metadata": {},
   "outputs": [],
   "source": [
    "k_nearest_models = {'y_tox' : KNeighborsClassifier(), \n",
    "          'y_sev_tox' : KNeighborsClassifier(),\n",
    "          'y_obs' : KNeighborsClassifier(),\n",
    "          'y_threat' : KNeighborsClassifier(),\n",
    "          'y_insult' : KNeighborsClassifier(),\n",
    "          'y_hate' : KNeighborsClassifier()}"
   ]
  },
  {
   "cell_type": "code",
   "execution_count": 67,
   "metadata": {},
   "outputs": [
    {
     "name": "stdout",
     "output_type": "stream",
     "text": [
      "y_tox\n",
      "[[176   5]\n",
      " [ 15   4]]\n",
      "0.9\n",
      "y_sev_tox\n",
      "[[195   1]\n",
      " [  4   0]]\n",
      "0.975\n",
      "y_obs\n",
      "[[187   2]\n",
      " [  9   2]]\n",
      "0.945\n",
      "y_threat\n",
      "[[200]]\n",
      "1.0\n",
      "y_insult\n",
      "[[188   2]\n",
      " [ 10   0]]\n",
      "0.94\n",
      "y_hate\n",
      "[[198   0]\n",
      " [  2   0]]\n",
      "0.99\n"
     ]
    }
   ],
   "source": [
    "for i in test_names:\n",
    "    X_train, X_test, y_train, y_test = train_test_split(X, tests[i])\n",
    "    k_nearest_models[i].fit(X_train, y_train)\n",
    "    preds[i] = k_nearest_models[i].predict(X_test)\n",
    "    print(i)\n",
    "    print(confusion_matrix(y_test, preds[i]))\n",
    "    print(accuracy_score(y_test, preds[i]))"
   ]
  },
  {
   "cell_type": "code",
   "execution_count": 35,
   "metadata": {},
   "outputs": [],
   "source": [
    "random_forest_models = {'y_tox' : RandomForestClassifier(), \n",
    "          'y_sev_tox' : RandomForestClassifier(),\n",
    "          'y_obs' : RandomForestClassifier(),\n",
    "          'y_threat' : RandomForestClassifier(),\n",
    "          'y_insult' : RandomForestClassifier(),\n",
    "          'y_hate' : RandomForestClassifier()}"
   ]
  },
  {
   "cell_type": "code",
   "execution_count": 68,
   "metadata": {},
   "outputs": [
    {
     "name": "stdout",
     "output_type": "stream",
     "text": [
      "y_tox\n",
      "[[85  1]\n",
      " [10  4]]\n",
      "0.89\n",
      "y_sev_tox\n",
      "[[99  1]\n",
      " [ 0  0]]\n",
      "0.99\n",
      "y_obs\n",
      "[[95  0]\n",
      " [ 4  1]]\n",
      "0.96\n",
      "y_threat\n",
      "[[99  0]\n",
      " [ 1  0]]\n",
      "0.99\n",
      "y_insult\n",
      "[[94  0]\n",
      " [ 5  1]]\n",
      "0.95\n",
      "y_hate\n",
      "[[100]]\n",
      "1.0\n"
     ]
    }
   ],
   "source": [
    "for i in test_names:\n",
    "    X_train, X_test, y_train, y_test = train_test_split(X, tests[i])\n",
    "    random_forest_models[i].fit(X_train, y_train)\n",
    "    preds[i] = random_forest_models[i].predict(X_test)\n",
    "    print(i)\n",
    "    print(confusion_matrix(y_test, preds[i]))\n",
    "    print(accuracy_score(y_test, preds[i]))"
   ]
  },
  {
   "cell_type": "code",
   "execution_count": 41,
   "metadata": {},
   "outputs": [],
   "source": [
    "decision_tree_models = {'y_tox' : DecisionTreeClassifier(), \n",
    "          'y_sev_tox' : DecisionTreeClassifier(),\n",
    "          'y_obs' : DecisionTreeClassifier(),\n",
    "          'y_threat' : DecisionTreeClassifier(),\n",
    "          'y_insult' : DecisionTreeClassifier(),\n",
    "          'y_hate' : DecisionTreeClassifier()}"
   ]
  },
  {
   "cell_type": "code",
   "execution_count": 70,
   "metadata": {},
   "outputs": [
    {
     "name": "stdout",
     "output_type": "stream",
     "text": [
      "y_tox\n",
      "[[453   5]\n",
      " [ 28  14]]\n",
      "0.934\n",
      "y_sev_tox\n",
      "[[494   1]\n",
      " [  5   0]]\n",
      "0.988\n",
      "y_obs\n",
      "[[472   6]\n",
      " [  8  14]]\n",
      "0.972\n",
      "y_threat\n",
      "[[498   0]\n",
      " [  2   0]]\n",
      "0.996\n",
      "y_insult\n",
      "[[473   8]\n",
      " [  9  10]]\n",
      "0.966\n",
      "y_hate\n",
      "[[493   3]\n",
      " [  4   0]]\n",
      "0.986\n"
     ]
    }
   ],
   "source": [
    "for i in test_names:\n",
    "    X_train, X_test, y_train, y_test = train_test_split(X, tests[i])\n",
    "    decision_tree_models[i].fit(X_train, y_train)\n",
    "    preds[i] = decision_tree_models[i].predict(X_test)\n",
    "    print(i)\n",
    "    print(confusion_matrix(y_test, preds[i]))\n",
    "    print(accuracy_score(y_test, preds[i]))"
   ]
  },
  {
   "cell_type": "code",
   "execution_count": null,
   "metadata": {},
   "outputs": [],
   "source": []
  }
 ],
 "metadata": {
  "kernelspec": {
   "display_name": "Python 3",
   "language": "python",
   "name": "python3"
  },
  "language_info": {
   "codemirror_mode": {
    "name": "ipython",
    "version": 3
   },
   "file_extension": ".py",
   "mimetype": "text/x-python",
   "name": "python",
   "nbconvert_exporter": "python",
   "pygments_lexer": "ipython3",
   "version": "3.7.0"
  }
 },
 "nbformat": 4,
 "nbformat_minor": 2
}
